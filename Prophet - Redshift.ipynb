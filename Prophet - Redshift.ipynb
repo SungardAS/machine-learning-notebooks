{
 "cells": [
  {
   "cell_type": "code",
   "execution_count": 1,
   "metadata": {
    "collapsed": false
   },
   "outputs": [],
   "source": [
    "import psycopg2"
   ]
  },
  {
   "cell_type": "code",
   "execution_count": 2,
   "metadata": {
    "collapsed": true
   },
   "outputs": [],
   "source": [
    "import datetime\n",
    "from dateutil import parser"
   ]
  },
  {
   "cell_type": "code",
   "execution_count": 3,
   "metadata": {
    "collapsed": true
   },
   "outputs": [],
   "source": [
    "host = ''\n",
    "dbname = ''\n",
    "port = 5439\n",
    "user = ''\n",
    "pwd = ''"
   ]
  },
  {
   "cell_type": "code",
   "execution_count": 13,
   "metadata": {
    "collapsed": false
   },
   "outputs": [],
   "source": [
    "#account_id = '089476987273'\n",
    "account_id = '266593598212'\n",
    "fwrite = open('../billing/%s.csv' % (account_id), 'w')"
   ]
  },
  {
   "cell_type": "code",
   "execution_count": 14,
   "metadata": {
    "collapsed": false
   },
   "outputs": [],
   "source": [
    "con = psycopg2.connect(dbname=dbname, host=host, port=port, user=user, password=pwd)\n",
    "cur = con.cursor()"
   ]
  },
  {
   "cell_type": "code",
   "execution_count": 15,
   "metadata": {
    "collapsed": true
   },
   "outputs": [],
   "source": [
    "current_date = datetime.datetime.today()\n",
    "#current_date = datetime.datetime(2017,3,1)\n",
    "start_date = datetime.datetime(2016, 8, 1)"
   ]
  },
  {
   "cell_type": "code",
   "execution_count": 13,
   "metadata": {
    "collapsed": false
   },
   "outputs": [
    {
     "name": "stdout",
     "output_type": "stream",
     "text": [
      "select cast(lineitem_usageenddate as date) enddate, to_char(sum(cast(lineitem_unblendedcost as float)), 'FM999990D00') unblended from AWSBilling201608 where lineitem_usageaccountid = '089476987273' and lineitem_usageenddate < '2016-09-01' and datediff(hour,cast(lineitem_usagestartdate as datetime),cast(lineitem_usageenddate as datetime)) = 1 group by enddate order by enddate\n",
      "select cast(lineitem_usageenddate as date) enddate, to_char(sum(cast(lineitem_unblendedcost as float)), 'FM999990D00') unblended from AWSBilling201609 where lineitem_usageaccountid = '089476987273' and lineitem_usageenddate < '2016-10-01' and datediff(hour,cast(lineitem_usagestartdate as datetime),cast(lineitem_usageenddate as datetime)) = 1 group by enddate order by enddate\n",
      "select cast(lineitem_usageenddate as date) enddate, to_char(sum(cast(lineitem_unblendedcost as float)), 'FM999990D00') unblended from AWSBilling201610 where lineitem_usageaccountid = '089476987273' and lineitem_usageenddate < '2016-11-01' and datediff(hour,cast(lineitem_usagestartdate as datetime),cast(lineitem_usageenddate as datetime)) = 1 group by enddate order by enddate\n",
      "select cast(lineitem_usageenddate as date) enddate, to_char(sum(cast(lineitem_unblendedcost as float)), 'FM999990D00') unblended from AWSBilling201611 where lineitem_usageaccountid = '089476987273' and lineitem_usageenddate < '2016-12-01' and datediff(hour,cast(lineitem_usagestartdate as datetime),cast(lineitem_usageenddate as datetime)) = 1 group by enddate order by enddate\n",
      "select cast(lineitem_usageenddate as date) enddate, to_char(sum(cast(lineitem_unblendedcost as float)), 'FM999990D00') unblended from AWSBilling201612 where lineitem_usageaccountid = '089476987273' and lineitem_usageenddate < '2017-01-01' and datediff(hour,cast(lineitem_usagestartdate as datetime),cast(lineitem_usageenddate as datetime)) = 1 group by enddate order by enddate\n",
      "select cast(lineitem_usageenddate as date) enddate, to_char(sum(cast(lineitem_unblendedcost as float)), 'FM999990D00') unblended from AWSBilling201701 where lineitem_usageaccountid = '089476987273' and lineitem_usageenddate < '2017-02-01' and datediff(hour,cast(lineitem_usagestartdate as datetime),cast(lineitem_usageenddate as datetime)) = 1 group by enddate order by enddate\n",
      "select cast(lineitem_usageenddate as date) enddate, to_char(sum(cast(lineitem_unblendedcost as float)), 'FM999990D00') unblended from AWSBilling201702 where lineitem_usageaccountid = '089476987273' and lineitem_usageenddate < '2017-03-01' and datediff(hour,cast(lineitem_usagestartdate as datetime),cast(lineitem_usageenddate as datetime)) = 1 group by enddate order by enddate\n",
      "select cast(lineitem_usageenddate as date) enddate, to_char(sum(cast(lineitem_unblendedcost as float)), 'FM999990D00') unblended from AWSBilling201703 where lineitem_usageaccountid = '089476987273' and lineitem_usageenddate < '2017-04-01' and datediff(hour,cast(lineitem_usagestartdate as datetime),cast(lineitem_usageenddate as datetime)) = 1 group by enddate order by enddate\n",
      "select cast(lineitem_usageenddate as date) enddate, to_char(sum(cast(lineitem_unblendedcost as float)), 'FM999990D00') unblended from AWSBilling201704 where lineitem_usageaccountid = '089476987273' and lineitem_usageenddate < '2017-04-09' and datediff(hour,cast(lineitem_usagestartdate as datetime),cast(lineitem_usageenddate as datetime)) = 1 group by enddate order by enddate\n"
     ]
    }
   ],
   "source": [
    "fwrite.write(\"ds,y\\n\")\n",
    "while current_date.date() > start_date.date():\n",
    "    if current_date.year == start_date.year and current_date.month == start_date.month:\n",
    "        next_date = datetime.datetime(current_date.year, current_date.month, current_date.day)\n",
    "        #print('start_date : %s' % start_date)\n",
    "        #print('next_date : %s' % next_date)\n",
    "        if next_date < start_date:\n",
    "            break\n",
    "    else:\n",
    "        next_date = start_date + datetime.timedelta(days=31)\n",
    "        next_date = datetime.datetime(next_date.year, next_date.month, 1)\n",
    "    sql = \"select cast(lineitem_usageenddate as date) enddate, to_char(sum(cast(lineitem_unblendedcost as float)), 'FM999990D00') unblended\"\n",
    "    sql += \" from AWSBilling%s\" % (start_date.strftime('%Y%m'))\n",
    "    sql += \" where lineitem_usageaccountid = '%s'\" %(account_id)\n",
    "    sql += \" and lineitem_usageenddate < '%s'\" % (next_date.strftime('%Y-%m-%d'))\n",
    "    sql += \" and datediff(hour,cast(lineitem_usagestartdate as datetime),cast(lineitem_usageenddate as datetime)) = 1\"\n",
    "    sql += \" group by enddate order by enddate\"\n",
    "    print(sql);\n",
    "    \"\"\"print('start_date : %s' % start_date)\n",
    "    print('next_date : %s' % next_date)\n",
    "    start_date = next_date\"\"\"\n",
    "\n",
    "    cur.execute(sql)\n",
    "    #data = [(\"%s,%s\" % (str(a[0]), a[1])) for a in cur.fetchall()]\n",
    "    #csv_data = \"\\n\".join(data)\n",
    "    #cur.fetchall()\n",
    "    for row in cur.fetchall():\n",
    "        fwrite.write(\"%s,%s\\n\" % (str(row[0]), row[1]))\n",
    "\n",
    "    start_date = next_date"
   ]
  },
  {
   "cell_type": "code",
   "execution_count": 7,
   "metadata": {
    "collapsed": false
   },
   "outputs": [
    {
     "name": "stdout",
     "output_type": "stream",
     "text": [
      "select cast(lineitem_usageenddate as datetime) enddatetime, to_char(sum(cast(lineitem_unblendedcost as float)), 'FM999990D00') unblended from AWSBilling201608 where lineitem_usageaccountid = '266593598212' and lineitem_usageenddate < '2016-09-01' and datediff(hour,cast(lineitem_usagestartdate as datetime),cast(lineitem_usageenddate as datetime)) = 1 group by enddatetime order by enddatetime\n",
      "select cast(lineitem_usageenddate as datetime) enddatetime, to_char(sum(cast(lineitem_unblendedcost as float)), 'FM999990D00') unblended from AWSBilling201609 where lineitem_usageaccountid = '266593598212' and lineitem_usageenddate < '2016-10-01' and datediff(hour,cast(lineitem_usagestartdate as datetime),cast(lineitem_usageenddate as datetime)) = 1 group by enddatetime order by enddatetime\n",
      "select cast(lineitem_usageenddate as datetime) enddatetime, to_char(sum(cast(lineitem_unblendedcost as float)), 'FM999990D00') unblended from AWSBilling201610 where lineitem_usageaccountid = '266593598212' and lineitem_usageenddate < '2016-11-01' and datediff(hour,cast(lineitem_usagestartdate as datetime),cast(lineitem_usageenddate as datetime)) = 1 group by enddatetime order by enddatetime\n",
      "select cast(lineitem_usageenddate as datetime) enddatetime, to_char(sum(cast(lineitem_unblendedcost as float)), 'FM999990D00') unblended from AWSBilling201611 where lineitem_usageaccountid = '266593598212' and lineitem_usageenddate < '2016-12-01' and datediff(hour,cast(lineitem_usagestartdate as datetime),cast(lineitem_usageenddate as datetime)) = 1 group by enddatetime order by enddatetime\n",
      "select cast(lineitem_usageenddate as datetime) enddatetime, to_char(sum(cast(lineitem_unblendedcost as float)), 'FM999990D00') unblended from AWSBilling201612 where lineitem_usageaccountid = '266593598212' and lineitem_usageenddate < '2017-01-01' and datediff(hour,cast(lineitem_usagestartdate as datetime),cast(lineitem_usageenddate as datetime)) = 1 group by enddatetime order by enddatetime\n",
      "select cast(lineitem_usageenddate as datetime) enddatetime, to_char(sum(cast(lineitem_unblendedcost as float)), 'FM999990D00') unblended from AWSBilling201701 where lineitem_usageaccountid = '266593598212' and lineitem_usageenddate < '2017-02-01' and datediff(hour,cast(lineitem_usagestartdate as datetime),cast(lineitem_usageenddate as datetime)) = 1 group by enddatetime order by enddatetime\n",
      "select cast(lineitem_usageenddate as datetime) enddatetime, to_char(sum(cast(lineitem_unblendedcost as float)), 'FM999990D00') unblended from AWSBilling201702 where lineitem_usageaccountid = '266593598212' and lineitem_usageenddate < '2017-03-01' and datediff(hour,cast(lineitem_usagestartdate as datetime),cast(lineitem_usageenddate as datetime)) = 1 group by enddatetime order by enddatetime\n",
      "select cast(lineitem_usageenddate as datetime) enddatetime, to_char(sum(cast(lineitem_unblendedcost as float)), 'FM999990D00') unblended from AWSBilling201703 where lineitem_usageaccountid = '266593598212' and lineitem_usageenddate < '2017-04-01' and datediff(hour,cast(lineitem_usagestartdate as datetime),cast(lineitem_usageenddate as datetime)) = 1 group by enddatetime order by enddatetime\n",
      "select cast(lineitem_usageenddate as datetime) enddatetime, to_char(sum(cast(lineitem_unblendedcost as float)), 'FM999990D00') unblended from AWSBilling201704 where lineitem_usageaccountid = '266593598212' and lineitem_usageenddate < '2017-04-17' and datediff(hour,cast(lineitem_usagestartdate as datetime),cast(lineitem_usageenddate as datetime)) = 1 group by enddatetime order by enddatetime\n"
     ]
    }
   ],
   "source": [
    "while current_date.date() > start_date.date():\n",
    "    if current_date.year == start_date.year and current_date.month == start_date.month:\n",
    "        next_date = datetime.datetime(current_date.year, current_date.month, current_date.day)\n",
    "        if next_date < start_date:\n",
    "            break\n",
    "    else:\n",
    "        next_date = start_date + datetime.timedelta(days=31)\n",
    "        next_date = datetime.datetime(next_date.year, next_date.month, 1)\n",
    "    sql = \"select cast(lineitem_usageenddate as datetime) enddatetime, to_char(sum(cast(lineitem_unblendedcost as float)), 'FM999990D00') unblended\"\n",
    "    sql += \" from AWSBilling%s\" % (start_date.strftime('%Y%m'))\n",
    "    sql += \" where lineitem_usageaccountid = '%s'\" %(account_id)\n",
    "    sql += \" and lineitem_usageenddate < '%s'\" % (next_date.strftime('%Y-%m-%d'))\n",
    "    sql += \" and datediff(hour,cast(lineitem_usagestartdate as datetime),cast(lineitem_usageenddate as datetime)) = 1\"\n",
    "    sql += \" group by enddatetime order by enddatetime\"\n",
    "    print(sql);\n",
    "    \"\"\"print('start_date : %s' % start_date)\n",
    "    print('next_date : %s' % next_date)\n",
    "    start_date = next_date\"\"\"\n",
    "\n",
    "    cur.execute(sql)\n",
    "    for row in cur.fetchall():\n",
    "        target_datetime = parser.parse(str(row[0]))\n",
    "        fwrite.write(\"%s%02d,%s\\n\" % (target_datetime.weekday(), target_datetime.hour, row[1]))\n",
    "        #fwrite.write(\"%s,%s\\n\" % (str(row[0]), row[1]))\n",
    "        #timestamp = (parser.parse(str(row[0])).strftime('%s'))\n",
    "        #fwrite.write(\"%s,%s\\n\" % (timestamp, row[1]))\n",
    "\n",
    "    start_date = next_date"
   ]
  },
  {
   "cell_type": "code",
   "execution_count": 16,
   "metadata": {
    "collapsed": false
   },
   "outputs": [
    {
     "name": "stdout",
     "output_type": "stream",
     "text": [
      "select cast(lineitem_usageenddate as datetime) enddatetime, to_char(sum(cast(lineitem_unblendedcost as float)), 'FM999990D00') unblended from AWSBilling201608 where lineitem_usageaccountid = '266593598212' and lineitem_usageenddate < '2016-09-01' and datediff(hour,cast(lineitem_usagestartdate as datetime),cast(lineitem_usageenddate as datetime)) = 1 group by enddatetime order by enddatetime\n",
      "select cast(lineitem_usageenddate as datetime) enddatetime, to_char(sum(cast(lineitem_unblendedcost as float)), 'FM999990D00') unblended from AWSBilling201609 where lineitem_usageaccountid = '266593598212' and lineitem_usageenddate < '2016-10-01' and datediff(hour,cast(lineitem_usagestartdate as datetime),cast(lineitem_usageenddate as datetime)) = 1 group by enddatetime order by enddatetime\n",
      "select cast(lineitem_usageenddate as datetime) enddatetime, to_char(sum(cast(lineitem_unblendedcost as float)), 'FM999990D00') unblended from AWSBilling201610 where lineitem_usageaccountid = '266593598212' and lineitem_usageenddate < '2016-11-01' and datediff(hour,cast(lineitem_usagestartdate as datetime),cast(lineitem_usageenddate as datetime)) = 1 group by enddatetime order by enddatetime\n",
      "select cast(lineitem_usageenddate as datetime) enddatetime, to_char(sum(cast(lineitem_unblendedcost as float)), 'FM999990D00') unblended from AWSBilling201611 where lineitem_usageaccountid = '266593598212' and lineitem_usageenddate < '2016-12-01' and datediff(hour,cast(lineitem_usagestartdate as datetime),cast(lineitem_usageenddate as datetime)) = 1 group by enddatetime order by enddatetime\n",
      "select cast(lineitem_usageenddate as datetime) enddatetime, to_char(sum(cast(lineitem_unblendedcost as float)), 'FM999990D00') unblended from AWSBilling201612 where lineitem_usageaccountid = '266593598212' and lineitem_usageenddate < '2017-01-01' and datediff(hour,cast(lineitem_usagestartdate as datetime),cast(lineitem_usageenddate as datetime)) = 1 group by enddatetime order by enddatetime\n",
      "select cast(lineitem_usageenddate as datetime) enddatetime, to_char(sum(cast(lineitem_unblendedcost as float)), 'FM999990D00') unblended from AWSBilling201701 where lineitem_usageaccountid = '266593598212' and lineitem_usageenddate < '2017-02-01' and datediff(hour,cast(lineitem_usagestartdate as datetime),cast(lineitem_usageenddate as datetime)) = 1 group by enddatetime order by enddatetime\n",
      "select cast(lineitem_usageenddate as datetime) enddatetime, to_char(sum(cast(lineitem_unblendedcost as float)), 'FM999990D00') unblended from AWSBilling201702 where lineitem_usageaccountid = '266593598212' and lineitem_usageenddate < '2017-03-01' and datediff(hour,cast(lineitem_usagestartdate as datetime),cast(lineitem_usageenddate as datetime)) = 1 group by enddatetime order by enddatetime\n",
      "select cast(lineitem_usageenddate as datetime) enddatetime, to_char(sum(cast(lineitem_unblendedcost as float)), 'FM999990D00') unblended from AWSBilling201703 where lineitem_usageaccountid = '266593598212' and lineitem_usageenddate < '2017-04-01' and datediff(hour,cast(lineitem_usagestartdate as datetime),cast(lineitem_usageenddate as datetime)) = 1 group by enddatetime order by enddatetime\n",
      "select cast(lineitem_usageenddate as datetime) enddatetime, to_char(sum(cast(lineitem_unblendedcost as float)), 'FM999990D00') unblended from AWSBilling201704 where lineitem_usageaccountid = '266593598212' and lineitem_usageenddate < '2017-04-17' and datediff(hour,cast(lineitem_usagestartdate as datetime),cast(lineitem_usageenddate as datetime)) = 1 group by enddatetime order by enddatetime\n"
     ]
    }
   ],
   "source": [
    "while current_date.date() > start_date.date():\n",
    "    if current_date.year == start_date.year and current_date.month == start_date.month:\n",
    "        next_date = datetime.datetime(current_date.year, current_date.month, current_date.day)\n",
    "        if next_date < start_date:\n",
    "            break\n",
    "    else:\n",
    "        next_date = start_date + datetime.timedelta(days=31)\n",
    "        next_date = datetime.datetime(next_date.year, next_date.month, 1)\n",
    "    sql = \"select cast(lineitem_usageenddate as datetime) enddatetime, to_char(sum(cast(lineitem_unblendedcost as float)), 'FM999990D00') unblended\"\n",
    "    sql += \" from AWSBilling%s\" % (start_date.strftime('%Y%m'))\n",
    "    sql += \" where lineitem_usageaccountid = '%s'\" %(account_id)\n",
    "    sql += \" and lineitem_usageenddate < '%s'\" % (next_date.strftime('%Y-%m-%d'))\n",
    "    sql += \" and datediff(hour,cast(lineitem_usagestartdate as datetime),cast(lineitem_usageenddate as datetime)) = 1\"\n",
    "    sql += \" group by enddatetime order by enddatetime\"\n",
    "    print(sql);\n",
    "    \"\"\"print('start_date : %s' % start_date)\n",
    "    print('next_date : %s' % next_date)\n",
    "    start_date = next_date\"\"\"\n",
    "\n",
    "    cur.execute(sql)\n",
    "    for row in cur.fetchall():\n",
    "        target_datetime = parser.parse(str(row[0]))\n",
    "        fwrite.write(\"%s,%s%02d,%s\\n\" % (str(row[0]), target_datetime.weekday(), target_datetime.hour, row[1]))\n",
    "\n",
    "    start_date = next_date"
   ]
  },
  {
   "cell_type": "code",
   "execution_count": 17,
   "metadata": {
    "collapsed": true
   },
   "outputs": [],
   "source": [
    "fwrite.close()\n",
    "cur.close()\n",
    "con.close()"
   ]
  },
  {
   "cell_type": "code",
   "execution_count": null,
   "metadata": {
    "collapsed": true
   },
   "outputs": [],
   "source": []
  }
 ],
 "metadata": {
  "kernelspec": {
   "display_name": "Python 2",
   "language": "python",
   "name": "python2"
  },
  "language_info": {
   "codemirror_mode": {
    "name": "ipython",
    "version": 2
   },
   "file_extension": ".py",
   "mimetype": "text/x-python",
   "name": "python",
   "nbconvert_exporter": "python",
   "pygments_lexer": "ipython2",
   "version": "2.7.13"
  }
 },
 "nbformat": 4,
 "nbformat_minor": 2
}
